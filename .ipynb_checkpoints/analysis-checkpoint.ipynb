{
 "cells": [
  {
   "cell_type": "code",
   "execution_count": 132,
   "metadata": {},
   "outputs": [],
   "source": [
    "import pandas as pd\n",
    "import numpy as np\n",
    "import csv\n",
    "from pymongo import MongoClient\n",
    "from bson.json_util import dumps\n",
    "import scratch\n",
    "import datetime as dt\n",
    "import sklearn\n",
    "import seaborn as sns\n",
    "\n"
   ]
  },
  {
   "cell_type": "code",
   "execution_count": 38,
   "metadata": {},
   "outputs": [],
   "source": [
    "# Import data\n",
    "vix_data = pd.read_csv(\"data/vixcurrent.csv\")\n",
    "trump_tweets = scratch.get_trump_tweet_data()\n",
    "# client = MongoClient('localhost', 27017)\n",
    "# db = client.twitter_data\n",
    "\n"
   ]
  },
  {
   "cell_type": "code",
   "execution_count": 126,
   "metadata": {},
   "outputs": [
    {
     "data": {
      "text/html": [
       "<div>\n",
       "<style scoped>\n",
       "    .dataframe tbody tr th:only-of-type {\n",
       "        vertical-align: middle;\n",
       "    }\n",
       "\n",
       "    .dataframe tbody tr th {\n",
       "        vertical-align: top;\n",
       "    }\n",
       "\n",
       "    .dataframe thead th {\n",
       "        text-align: right;\n",
       "    }\n",
       "</style>\n",
       "<table border=\"1\" class=\"dataframe\">\n",
       "  <thead>\n",
       "    <tr style=\"text-align: right;\">\n",
       "      <th></th>\n",
       "      <th>char_count</th>\n",
       "      <th>retweets</th>\n",
       "      <th>sentiment</th>\n",
       "      <th>text</th>\n",
       "    </tr>\n",
       "    <tr>\n",
       "      <th>date</th>\n",
       "      <th></th>\n",
       "      <th></th>\n",
       "      <th></th>\n",
       "      <th></th>\n",
       "    </tr>\n",
       "  </thead>\n",
       "  <tbody>\n",
       "    <tr>\n",
       "      <th>2019-08-07</th>\n",
       "      <td>1259</td>\n",
       "      <td>189353</td>\n",
       "      <td>6.666667e-02</td>\n",
       "      <td>10</td>\n",
       "    </tr>\n",
       "    <tr>\n",
       "      <th>2019-08-08</th>\n",
       "      <td>1500</td>\n",
       "      <td>219783</td>\n",
       "      <td>2.205739e-01</td>\n",
       "      <td>11</td>\n",
       "    </tr>\n",
       "    <tr>\n",
       "      <th>2019-08-09</th>\n",
       "      <td>700</td>\n",
       "      <td>114585</td>\n",
       "      <td>5.551115e-18</td>\n",
       "      <td>5</td>\n",
       "    </tr>\n",
       "    <tr>\n",
       "      <th>2019-08-10</th>\n",
       "      <td>1121</td>\n",
       "      <td>262314</td>\n",
       "      <td>1.748810e-01</td>\n",
       "      <td>8</td>\n",
       "    </tr>\n",
       "    <tr>\n",
       "      <th>2019-08-11</th>\n",
       "      <td>420</td>\n",
       "      <td>63987</td>\n",
       "      <td>2.592262e-01</td>\n",
       "      <td>3</td>\n",
       "    </tr>\n",
       "  </tbody>\n",
       "</table>\n",
       "</div>"
      ],
      "text/plain": [
       "            char_count  retweets     sentiment  text\n",
       "date                                                \n",
       "2019-08-07        1259    189353  6.666667e-02    10\n",
       "2019-08-08        1500    219783  2.205739e-01    11\n",
       "2019-08-09         700    114585  5.551115e-18     5\n",
       "2019-08-10        1121    262314  1.748810e-01     8\n",
       "2019-08-11         420     63987  2.592262e-01     3"
      ]
     },
     "execution_count": 126,
     "metadata": {},
     "output_type": "execute_result"
    }
   ],
   "source": [
    "# Clean Twitter Data\n",
    "trump_tweets['date'] = pd.to_datetime(trump_tweets['date']).dt.date\n",
    "tweets_by_date = trump_tweets.groupby('date')\n",
    "final_twitter_data = tweets_by_date.agg({'char_count' : 'sum', 'retweets':'sum', 'sentiment':'mean', 'text':'count'})\n",
    "final_twitter_data.head()"
   ]
  },
  {
   "cell_type": "code",
   "execution_count": 130,
   "metadata": {},
   "outputs": [
    {
     "data": {
      "text/html": [
       "<div>\n",
       "<style scoped>\n",
       "    .dataframe tbody tr th:only-of-type {\n",
       "        vertical-align: middle;\n",
       "    }\n",
       "\n",
       "    .dataframe tbody tr th {\n",
       "        vertical-align: top;\n",
       "    }\n",
       "\n",
       "    .dataframe thead th {\n",
       "        text-align: right;\n",
       "    }\n",
       "</style>\n",
       "<table border=\"1\" class=\"dataframe\">\n",
       "  <thead>\n",
       "    <tr style=\"text-align: right;\">\n",
       "      <th></th>\n",
       "      <th>date</th>\n",
       "      <th>daily_spread</th>\n",
       "      <th>percent_change</th>\n",
       "    </tr>\n",
       "  </thead>\n",
       "  <tbody>\n",
       "    <tr>\n",
       "      <th>0</th>\n",
       "      <td>2019-08-07</td>\n",
       "      <td>4.73</td>\n",
       "      <td>-0.058454</td>\n",
       "    </tr>\n",
       "    <tr>\n",
       "      <th>1</th>\n",
       "      <td>2019-08-08</td>\n",
       "      <td>3.07</td>\n",
       "      <td>-0.126550</td>\n",
       "    </tr>\n",
       "    <tr>\n",
       "      <th>2</th>\n",
       "      <td>2019-08-09</td>\n",
       "      <td>2.13</td>\n",
       "      <td>-0.009372</td>\n",
       "    </tr>\n",
       "    <tr>\n",
       "      <th>3</th>\n",
       "      <td>2019-08-12</td>\n",
       "      <td>3.49</td>\n",
       "      <td>0.180190</td>\n",
       "    </tr>\n",
       "    <tr>\n",
       "      <th>4</th>\n",
       "      <td>2019-08-13</td>\n",
       "      <td>4.12</td>\n",
       "      <td>-0.176692</td>\n",
       "    </tr>\n",
       "  </tbody>\n",
       "</table>\n",
       "</div>"
      ],
      "text/plain": [
       "         date  daily_spread  percent_change\n",
       "0  2019-08-07          4.73       -0.058454\n",
       "1  2019-08-08          3.07       -0.126550\n",
       "2  2019-08-09          2.13       -0.009372\n",
       "3  2019-08-12          3.49        0.180190\n",
       "4  2019-08-13          4.12       -0.176692"
      ]
     },
     "execution_count": 130,
     "metadata": {},
     "output_type": "execute_result"
    }
   ],
   "source": [
    "# Clean VIX Data\n",
    "vix_data['date'] = pd.to_datetime(vix_data['date']).dt.date\n",
    "final_vix_data = vix_data.drop(columns=['vix_open', 'vix_high', 'vix_low', 'vix_close'])\n",
    "final_vix_data.head()"
   ]
  },
  {
   "cell_type": "code",
   "execution_count": 129,
   "metadata": {},
   "outputs": [
    {
     "data": {
      "text/html": [
       "<div>\n",
       "<style scoped>\n",
       "    .dataframe tbody tr th:only-of-type {\n",
       "        vertical-align: middle;\n",
       "    }\n",
       "\n",
       "    .dataframe tbody tr th {\n",
       "        vertical-align: top;\n",
       "    }\n",
       "\n",
       "    .dataframe thead th {\n",
       "        text-align: right;\n",
       "    }\n",
       "</style>\n",
       "<table border=\"1\" class=\"dataframe\">\n",
       "  <thead>\n",
       "    <tr style=\"text-align: right;\">\n",
       "      <th></th>\n",
       "      <th>date</th>\n",
       "      <th>total_char_count</th>\n",
       "      <th>total_retweets</th>\n",
       "      <th>mean_sentiment</th>\n",
       "      <th>num_tweets</th>\n",
       "      <th>vix_spread</th>\n",
       "      <th>vix_percent_change</th>\n",
       "    </tr>\n",
       "  </thead>\n",
       "  <tbody>\n",
       "    <tr>\n",
       "      <th>0</th>\n",
       "      <td>2019-08-07</td>\n",
       "      <td>1259</td>\n",
       "      <td>189353</td>\n",
       "      <td>6.666667e-02</td>\n",
       "      <td>10</td>\n",
       "      <td>4.73</td>\n",
       "      <td>-0.058454</td>\n",
       "    </tr>\n",
       "    <tr>\n",
       "      <th>1</th>\n",
       "      <td>2019-08-08</td>\n",
       "      <td>1500</td>\n",
       "      <td>219783</td>\n",
       "      <td>2.205739e-01</td>\n",
       "      <td>11</td>\n",
       "      <td>3.07</td>\n",
       "      <td>-0.126550</td>\n",
       "    </tr>\n",
       "    <tr>\n",
       "      <th>2</th>\n",
       "      <td>2019-08-09</td>\n",
       "      <td>700</td>\n",
       "      <td>114585</td>\n",
       "      <td>5.551115e-18</td>\n",
       "      <td>5</td>\n",
       "      <td>2.13</td>\n",
       "      <td>-0.009372</td>\n",
       "    </tr>\n",
       "    <tr>\n",
       "      <th>3</th>\n",
       "      <td>2019-08-12</td>\n",
       "      <td>2351</td>\n",
       "      <td>249592</td>\n",
       "      <td>1.821637e-01</td>\n",
       "      <td>19</td>\n",
       "      <td>3.49</td>\n",
       "      <td>0.180190</td>\n",
       "    </tr>\n",
       "    <tr>\n",
       "      <th>4</th>\n",
       "      <td>2019-08-13</td>\n",
       "      <td>4337</td>\n",
       "      <td>519926</td>\n",
       "      <td>5.267150e-02</td>\n",
       "      <td>39</td>\n",
       "      <td>4.12</td>\n",
       "      <td>-0.176692</td>\n",
       "    </tr>\n",
       "  </tbody>\n",
       "</table>\n",
       "</div>"
      ],
      "text/plain": [
       "         date  total_char_count  total_retweets  mean_sentiment  num_tweets  \\\n",
       "0  2019-08-07              1259          189353    6.666667e-02          10   \n",
       "1  2019-08-08              1500          219783    2.205739e-01          11   \n",
       "2  2019-08-09               700          114585    5.551115e-18           5   \n",
       "3  2019-08-12              2351          249592    1.821637e-01          19   \n",
       "4  2019-08-13              4337          519926    5.267150e-02          39   \n",
       "\n",
       "   vix_spread  vix_percent_change  \n",
       "0        4.73           -0.058454  \n",
       "1        3.07           -0.126550  \n",
       "2        2.13           -0.009372  \n",
       "3        3.49            0.180190  \n",
       "4        4.12           -0.176692  "
      ]
     },
     "execution_count": 129,
     "metadata": {},
     "output_type": "execute_result"
    }
   ],
   "source": [
    "# Merge datasets into a single dataframe\n",
    "df = pd.merge(final_twitter_data, final_vix_data, on='date')\n",
    "df = df.rename(columns={'char_count':'total_char_count', 'retweets':'total_retweets', 'sentiment':'mean_sentiment', 'text':'num_tweets', 'daily_spread':'vix_spread', 'percent_change':'vix_percent_change'})\n",
    "df.head()"
   ]
  },
  {
   "cell_type": "code",
   "execution_count": 150,
   "metadata": {},
   "outputs": [
    {
     "data": {
      "text/plain": [
       "<seaborn.axisgrid.PairGrid at 0x1f593f1c080>"
      ]
     },
     "execution_count": 150,
     "metadata": {},
     "output_type": "execute_result"
    },
    {
     "data": {
      "image/png": "[encoded data removed]",
      "text/plain": [
       "<Figure size 1008x360 with 4 Axes>"
      ]
     },
     "metadata": {
      "needs_background": "light"
     },
     "output_type": "display_data"
    }
   ],
   "source": [
    "# Correlation of feature columns with VIX spread\n",
    "sns.pairplot(df, x_vars=['total_char_count', 'total_retweets', 'mean_sentiment', 'num_tweets'], y_vars='vix_spread', height=5, aspect=.7, kind='reg')"
   ]
  },
  {
   "cell_type": "code",
   "execution_count": 149,
   "metadata": {},
   "outputs": [
    {
     "name": "stderr",
     "output_type": "stream",
     "text": [
      "C:\\ProgramData\\Anaconda3\\lib\\site-packages\\scipy\\stats\\stats.py:1713: FutureWarning: Using a non-tuple sequence for multidimensional indexing is deprecated; use `arr[tuple(seq)]` instead of `arr[seq]`. In the future this will be interpreted as an array index, `arr[np.array(seq)]`, which will result either in an error or a different result.\n",
      "  return np.add.reduce(sorted[indexer] * weights, axis=axis) / sumval\n"
     ]
    },
    {
     "data": {
      "text/plain": [
       "<seaborn.axisgrid.PairGrid at 0x1f593a74208>"
      ]
     },
     "execution_count": 149,
     "metadata": {},
     "output_type": "execute_result"
    },
    {
     "data": {
      "image/png": "[encoded data removed]",
      "text/plain": [
       "<Figure size 1008x360 with 4 Axes>"
      ]
     },
     "metadata": {
      "needs_background": "light"
     },
     "output_type": "display_data"
    }
   ],
   "source": [
    "# Correlation of feature columns with VIX percent change\n",
    "sns.pairplot(df, x_vars=['total_char_count', 'total_retweets', 'mean_sentiment', 'num_tweets'], y_vars='vix_percent_change', height=5, aspect=.7, kind='reg')"
   ]
  },
  {
   "cell_type": "code",
   "execution_count": 231,
   "metadata": {},
   "outputs": [
    {
     "data": {
      "text/html": [
       "<div>\n",
       "<style scoped>\n",
       "    .dataframe tbody tr th:only-of-type {\n",
       "        vertical-align: middle;\n",
       "    }\n",
       "\n",
       "    .dataframe tbody tr th {\n",
       "        vertical-align: top;\n",
       "    }\n",
       "\n",
       "    .dataframe thead th {\n",
       "        text-align: right;\n",
       "    }\n",
       "</style>\n",
       "<table border=\"1\" class=\"dataframe\">\n",
       "  <thead>\n",
       "    <tr style=\"text-align: right;\">\n",
       "      <th></th>\n",
       "      <th>total_char_count</th>\n",
       "      <th>total_retweets</th>\n",
       "      <th>mean_sentiment</th>\n",
       "      <th>num_tweets</th>\n",
       "    </tr>\n",
       "  </thead>\n",
       "  <tbody>\n",
       "    <tr>\n",
       "      <th>0</th>\n",
       "      <td>1259</td>\n",
       "      <td>189353</td>\n",
       "      <td>6.666667e-02</td>\n",
       "      <td>10</td>\n",
       "    </tr>\n",
       "    <tr>\n",
       "      <th>1</th>\n",
       "      <td>1500</td>\n",
       "      <td>219783</td>\n",
       "      <td>2.205739e-01</td>\n",
       "      <td>11</td>\n",
       "    </tr>\n",
       "    <tr>\n",
       "      <th>2</th>\n",
       "      <td>700</td>\n",
       "      <td>114585</td>\n",
       "      <td>5.551115e-18</td>\n",
       "      <td>5</td>\n",
       "    </tr>\n",
       "    <tr>\n",
       "      <th>3</th>\n",
       "      <td>2351</td>\n",
       "      <td>249592</td>\n",
       "      <td>1.821637e-01</td>\n",
       "      <td>19</td>\n",
       "    </tr>\n",
       "    <tr>\n",
       "      <th>4</th>\n",
       "      <td>4337</td>\n",
       "      <td>519926</td>\n",
       "      <td>5.267150e-02</td>\n",
       "      <td>39</td>\n",
       "    </tr>\n",
       "  </tbody>\n",
       "</table>\n",
       "</div>"
      ],
      "text/plain": [
       "   total_char_count  total_retweets  mean_sentiment  num_tweets\n",
       "0              1259          189353    6.666667e-02          10\n",
       "1              1500          219783    2.205739e-01          11\n",
       "2               700          114585    5.551115e-18           5\n",
       "3              2351          249592    1.821637e-01          19\n",
       "4              4337          519926    5.267150e-02          39"
      ]
     },
     "execution_count": 231,
     "metadata": {},
     "output_type": "execute_result"
    }
   ],
   "source": [
    "feature_cols=['total_char_count', 'total_retweets', 'mean_sentiment', 'num_tweets']\n",
    "x = df[feature_cols]\n",
    "x.head()"
   ]
  },
  {
   "cell_type": "code",
   "execution_count": 264,
   "metadata": {},
   "outputs": [
    {
     "data": {
      "text/plain": [
       "0    4.73\n",
       "1    3.07\n",
       "2    2.13\n",
       "3    3.49\n",
       "4    4.12\n",
       "Name: vix_spread, dtype: float64"
      ]
     },
     "execution_count": 264,
     "metadata": {},
     "output_type": "execute_result"
    }
   ],
   "source": [
    "label= 'vix_spread'\n",
    "# label = 'vix_percent_change'\n",
    "y = df[label]\n",
    "y.head()"
   ]
  },
  {
   "cell_type": "code",
   "execution_count": 270,
   "metadata": {},
   "outputs": [
    {
     "name": "stderr",
     "output_type": "stream",
     "text": [
      "C:\\ProgramData\\Anaconda3\\lib\\site-packages\\sklearn\\model_selection\\_split.py:2179: FutureWarning: From version 0.21, test_size will always complement train_size unless both are specified.\n",
      "  FutureWarning)\n"
     ]
    },
    {
     "data": {
      "text/plain": [
       "LinearRegression(copy_X=True, fit_intercept=True, n_jobs=None, normalize=True)"
      ]
     },
     "execution_count": 270,
     "metadata": {},
     "output_type": "execute_result"
    }
   ],
   "source": [
    "from sklearn.model_selection import train_test_split\n",
    "from sklearn.linear_model import LinearRegression\n",
    "\n",
    "x_train, x_test, y_train, y_test = train_test_split(x, y, train_size=0.75)\n",
    "\n",
    "linreg = LinearRegression(normalize=True)\n",
    "\n",
    "linreg.fit(x_train, y_train)"
   ]
  },
  {
   "cell_type": "code",
   "execution_count": 271,
   "metadata": {},
   "outputs": [
    {
     "name": "stdout",
     "output_type": "stream",
     "text": [
      "1.4802591775132523\n",
      "[-5.47088735e-04 -2.43233658e-07  1.85825323e+00  6.86205354e-02]\n",
      "True\n"
     ]
    }
   ],
   "source": [
    "print(linreg.intercept_)\n",
    "print(linreg.coef_)\n"
   ]
  },
  {
   "cell_type": "code",
   "execution_count": 272,
   "metadata": {},
   "outputs": [],
   "source": [
    "y_predicted=linreg.predict(x_test)"
   ]
  },
  {
   "cell_type": "code",
   "execution_count": 273,
   "metadata": {},
   "outputs": [
    {
     "data": {
      "text/plain": [
       "array([1.83409194, 1.85615542, 1.96499553, 2.10749194, 1.39983535,\n",
       "       1.79739605, 2.06480289, 1.9285206 , 1.74059035, 1.95698648,\n",
       "       1.80462611, 1.5421677 , 1.70528551, 1.96481482, 1.56826116,\n",
       "       1.93842586, 1.620287  , 1.4868139 , 1.56647555, 1.78956573,\n",
       "       1.73802262])"
      ]
     },
     "execution_count": 273,
     "metadata": {},
     "output_type": "execute_result"
    }
   ],
   "source": [
    "y_predicted\n"
   ]
  },
  {
   "cell_type": "code",
   "execution_count": 274,
   "metadata": {},
   "outputs": [
    {
     "data": {
      "text/plain": [
       "12    5.03\n",
       "41    3.00\n",
       "77    0.86\n",
       "7     2.09\n",
       "73    0.85\n",
       "38    2.83\n",
       "9     1.25\n",
       "26    0.80\n",
       "10    1.53\n",
       "44    2.23\n",
       "35    1.74\n",
       "14    2.55\n",
       "29    2.00\n",
       "33    3.29\n",
       "17    2.09\n",
       "79    0.35\n",
       "80    0.71\n",
       "16    1.60\n",
       "19    1.57\n",
       "49    0.66\n",
       "21    1.15\n",
       "Name: vix_spread, dtype: float64"
      ]
     },
     "execution_count": 274,
     "metadata": {},
     "output_type": "execute_result"
    }
   ],
   "source": [
    "y_test"
   ]
  },
  {
   "cell_type": "code",
   "execution_count": 275,
   "metadata": {},
   "outputs": [
    {
     "data": {
      "text/plain": [
       "1.1566564333209142"
      ]
     },
     "execution_count": 275,
     "metadata": {},
     "output_type": "execute_result"
    }
   ],
   "source": [
    "np.mean((y_predicted-y_test)**2)"
   ]
  },
  {
   "cell_type": "code",
   "execution_count": 276,
   "metadata": {},
   "outputs": [
    {
     "data": {
      "text/plain": [
       "0.0034274648151177978"
      ]
     },
     "execution_count": 276,
     "metadata": {},
     "output_type": "execute_result"
    }
   ],
   "source": [
    "from sklearn.metrics import r2_score\n",
    "r2_score(y_test, y_predicted)"
   ]
  },
  {
   "cell_type": "code",
   "execution_count": 277,
   "metadata": {},
   "outputs": [],
   "source": [
    "def run_lin_reg(df, feature_cols, label, normalize_data=False, training_percent=.75):\n",
    "    from sklearn.model_selection import train_test_split\n",
    "    from sklearn.linear_model import LinearRegression\n",
    "    from sklearn.metrics import r2_score\n",
    "    \n",
    "    x = df[feature_cols]\n",
    "    y = df[label]\n",
    "    \n",
    "    x_train, x_test, y_train, y_test = train_test_split(x, y, train_size=training_percent)\n",
    "    linreg = LinearRegression(normalize=normalize_data)\n",
    "    linreg.fit(x_train, y_train)\n",
    "    \n",
    "    y_predicted=linreg.predict(x_test)\n",
    "    mean_sqrd_error = np.mean((y_predicted-y_test)**2)\n",
    "    r_sqrd = r2_score(y_test, y_predicted)\n",
    "    \n",
    "    print(\"Intercept: \", linreg.intercept_)\n",
    "    print(\"Coefficients: \", linreg.coef_)\n",
    "    print(\"Mean squared Error: \", mean_sqrd_error)\n",
    "    print(\"R squared: \", r_sqrd)\n",
    "    "
   ]
  },
  {
   "cell_type": "code",
   "execution_count": 279,
   "metadata": {},
   "outputs": [
    {
     "name": "stdout",
     "output_type": "stream",
     "text": [
      "Intercept:  1.3077507552626657\n",
      "Coefficients:  [ 1.48338819e-04 -1.73757820e-06  1.14474533e+00  2.05930068e-02]\n",
      "Mean squared Error:  1.0784827712958507\n",
      "R squared:  -0.2798257747705466\n"
     ]
    },
    {
     "name": "stderr",
     "output_type": "stream",
     "text": [
      "C:\\ProgramData\\Anaconda3\\lib\\site-packages\\sklearn\\model_selection\\_split.py:2179: FutureWarning: From version 0.21, test_size will always complement train_size unless both are specified.\n",
      "  FutureWarning)\n"
     ]
    }
   ],
   "source": [
    "run_lin_reg(df, ['total_char_count', 'total_retweets', 'mean_sentiment', 'num_tweets'], 'vix_spread')\n"
   ]
  },
  {
   "cell_type": "code",
   "execution_count": 281,
   "metadata": {},
   "outputs": [
    {
     "name": "stdout",
     "output_type": "stream",
     "text": [
      "Intercept:  1.0731301754511098\n",
      "Coefficients:  [-8.78491303e-04  6.63253198e-07  3.39781799e+00  1.04954203e-01]\n",
      "Mean squared Error:  0.9623507371903078\n",
      "R squared:  -0.5304648376227761\n"
     ]
    },
    {
     "name": "stderr",
     "output_type": "stream",
     "text": [
      "C:\\ProgramData\\Anaconda3\\lib\\site-packages\\sklearn\\model_selection\\_split.py:2179: FutureWarning: From version 0.21, test_size will always complement train_size unless both are specified.\n",
      "  FutureWarning)\n"
     ]
    }
   ],
   "source": [
    "run_lin_reg(df, ['total_char_count', 'total_retweets', 'mean_sentiment', 'num_tweets'], 'vix_spread', normalize_data=True)\n"
   ]
  },
  {
   "cell_type": "code",
   "execution_count": 283,
   "metadata": {},
   "outputs": [
    {
     "name": "stdout",
     "output_type": "stream",
     "text": [
      "Intercept:  -0.057066995231525586\n",
      "Coefficients:  [ 5.88714947e-05  1.80922715e-07  1.80381427e-01 -8.50038372e-03]\n",
      "Mean squared Error:  0.0038708797945066686\n",
      "R squared:  -0.17100889790056883\n"
     ]
    },
    {
     "name": "stderr",
     "output_type": "stream",
     "text": [
      "C:\\ProgramData\\Anaconda3\\lib\\site-packages\\sklearn\\model_selection\\_split.py:2179: FutureWarning: From version 0.21, test_size will always complement train_size unless both are specified.\n",
      "  FutureWarning)\n"
     ]
    }
   ],
   "source": [
    "run_lin_reg(df, ['total_char_count', 'total_retweets', 'mean_sentiment', 'num_tweets'], 'vix_percent_change')\n"
   ]
  },
  {
   "cell_type": "code",
   "execution_count": 284,
   "metadata": {},
   "outputs": [
    {
     "name": "stdout",
     "output_type": "stream",
     "text": [
      "Intercept:  -0.042404213589688676\n",
      "Coefficients:  [ 4.51190453e-05  9.49589305e-08  2.07227497e-01 -6.19802681e-03]\n",
      "Mean squared Error:  0.0034000485537207616\n",
      "R squared:  0.0649924249632412\n"
     ]
    },
    {
     "name": "stderr",
     "output_type": "stream",
     "text": [
      "C:\\ProgramData\\Anaconda3\\lib\\site-packages\\sklearn\\model_selection\\_split.py:2179: FutureWarning: From version 0.21, test_size will always complement train_size unless both are specified.\n",
      "  FutureWarning)\n"
     ]
    }
   ],
   "source": [
    "run_lin_reg(df, ['total_char_count', 'total_retweets', 'mean_sentiment', 'num_tweets'], 'vix_percent_change', normalize_data=True)\n"
   ]
  }
 ],
 "metadata": {
  "kernelspec": {
   "display_name": "Python 3",
   "language": "python",
   "name": "python3"
  },
  "language_info": {
   "codemirror_mode": {
    "name": "ipython",
    "version": 3
   },
   "file_extension": ".py",
   "mimetype": "text/x-python",
   "name": "python",
   "nbconvert_exporter": "python",
   "pygments_lexer": "ipython3",
   "version": "3.7.1"
  }
 },
 "nbformat": 4,
 "nbformat_minor": 2
}
